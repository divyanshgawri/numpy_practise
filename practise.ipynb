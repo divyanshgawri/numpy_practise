{
 "cells": [
  {
   "cell_type": "code",
   "execution_count": 1,
   "metadata": {},
   "outputs": [],
   "source": [
    "import numpy as np"
   ]
  },
  {
   "cell_type": "markdown",
   "metadata": {},
   "source": [
    "Write a code snippet to create a 3x3 numpy array with values ranging from 1 to 9 and iterate through each element using nested loops\n"
   ]
  },
  {
   "cell_type": "code",
   "execution_count": 2,
   "metadata": {},
   "outputs": [
    {
     "name": "stdout",
     "output_type": "stream",
     "text": [
      "0\n",
      "1\n",
      "2\n",
      "3\n",
      "4\n",
      "5\n",
      "6\n",
      "7\n",
      "8\n"
     ]
    }
   ],
   "source": [
    "a = np.arange(0,9)\n",
    "a.reshape(3,3)\n",
    "for i in np.nditer(a):\n",
    "    print(i)"
   ]
  },
  {
   "cell_type": "markdown",
   "metadata": {},
   "source": [
    "Create a numpy array of shape (2, 4) filled with zeros and another array of shape (3, 3) filled with ones. Print their data types and shapes."
   ]
  },
  {
   "cell_type": "code",
   "execution_count": 3,
   "metadata": {},
   "outputs": [
    {
     "name": "stdout",
     "output_type": "stream",
     "text": [
      "[[1. 1. 1.]\n",
      " [1. 1. 1.]\n",
      " [1. 1. 1.]]\n",
      "[[0. 0. 0. 0.]\n",
      " [0. 0. 0. 0.]]\n",
      "\n",
      "\n",
      "float64 (3, 3)\n",
      "float64 (2, 4)\n"
     ]
    }
   ],
   "source": [
    "arr = np.zeros((2,4))\n",
    "# arr.reshape(2,4)\n",
    "varr = np.ones((3,3))\n",
    "print(varr)\n",
    "print(arr)\n",
    "print(\"\\n\")\n",
    "print(varr.dtype,varr.shape)\n",
    "print(arr.dtype,arr.shape)"
   ]
  },
  {
   "cell_type": "markdown",
   "metadata": {},
   "source": [
    "Given a numpy array str_arr containing strings, write code to convert each string to title case and print the result."
   ]
  },
  {
   "cell_type": "code",
   "execution_count": 4,
   "metadata": {},
   "outputs": [
    {
     "name": "stdout",
     "output_type": "stream",
     "text": [
      "[['Hello' 'Byy']\n",
      " ['Gm' 'Gn']]\n"
     ]
    }
   ],
   "source": [
    "str_arr = np.char.array([[\"hello\",\"byy\"],[\"gm\",\"gn\"]])\n",
    "print(str_arr.title())\n"
   ]
  },
  {
   "cell_type": "markdown",
   "metadata": {},
   "source": [
    "Create a numpy array containing float values ranging from 1.1 to 5.5. Use astype() to convert it to an array of integers and print the result."
   ]
  },
  {
   "cell_type": "code",
   "execution_count": 5,
   "metadata": {},
   "outputs": [
    {
     "data": {
      "text/plain": [
       "array([1, 2, 3, 4, 5], dtype=int64)"
      ]
     },
     "execution_count": 5,
     "metadata": {},
     "output_type": "execute_result"
    }
   ],
   "source": [
    "der = np.arange(1.1,5.5)\n",
    "fer = der.astype(dtype='int64')\n",
    "fer\n",
    "#hello"
   ]
  },
  {
   "cell_type": "markdown",
   "metadata": {},
   "source": [
    "Define a numpy array arr of shape (4, 6) filled with values from 1 to 24. Reshape it to a 2x12 array and print the result."
   ]
  },
  {
   "cell_type": "code",
   "execution_count": 6,
   "metadata": {},
   "outputs": [
    {
     "name": "stdout",
     "output_type": "stream",
     "text": [
      "[[ 1  2  3  4  5  6  7  8  9 10 11 12]\n",
      " [13 14 15 16 17 18 19 20 21 22 23 24]]\n"
     ]
    }
   ],
   "source": [
    "se = np.arange(1,25).reshape(4,6)\n",
    "de = se.reshape(2,12)\n",
    "print(de)"
   ]
  },
  {
   "cell_type": "markdown",
   "metadata": {},
   "source": [
    "Compare the performance of iterating through a numpy array using nested loops versus using np.nditer() for a large array (e.g., shape (1000, 1000)).\n"
   ]
  },
  {
   "cell_type": "code",
   "execution_count": null,
   "metadata": {},
   "outputs": [],
   "source": [
    "we = np.arange(1,1000001).reshape(1000,1000)\n",
    "for i in np.nditer(we):\n",
    "    print(i)"
   ]
  },
  {
   "cell_type": "markdown",
   "metadata": {},
   "source": [
    "Create a 4x4 identity matrix using numpy functions only. Then, multiply it by a randomly generated 4x4 matrix and print the result.\n"
   ]
  },
  {
   "cell_type": "code",
   "execution_count": 17,
   "metadata": {},
   "outputs": [
    {
     "data": {
      "text/plain": [
       "array([[0.22410262, 0.        , 0.        , 0.        ],\n",
       "       [0.        , 0.75861659, 0.        , 0.        ],\n",
       "       [0.        , 0.        , 0.78931999, 0.        ],\n",
       "       [0.        , 0.        , 0.        , 0.1051607 ]])"
      ]
     },
     "execution_count": 17,
     "metadata": {},
     "output_type": "execute_result"
    }
   ],
   "source": [
    "re = np.eye(4,4)\n",
    "er = np.random.random_sample((4,4))\n",
    "qw =re.__mul__(er)\n",
    "qw\n"
   ]
  },
  {
   "cell_type": "markdown",
   "metadata": {},
   "source": [
    " Given an array `arr` containing the temperature data of a city for a week (7 days), split it into three parts representing morning, afternoon, and evening temperatures respectively. Print each part separately\n",
    " [20, 22, 24, 26, 28, 30, 29]\n",
    " "
   ]
  },
  {
   "cell_type": "code",
   "execution_count": 9,
   "metadata": {},
   "outputs": [
    {
     "name": "stdout",
     "output_type": "stream",
     "text": [
      "Morning temperatures: [20 22]\n",
      "Afternoon temperatures: [24 26]\n",
      "Evening temperatures: [28 30 29]\n"
     ]
    }
   ],
   "source": [
    "\n",
    "arr = np.array([20, 22, 24, 26, 28, 30, 29])\n",
    "morning_temperatures, afternoon_temperatures, evening_temperatures = np.array_split(arr, [2, 4])\n",
    "print(\"Morning temperatures:\", morning_temperatures)\n",
    "print(\"Afternoon temperatures:\", afternoon_temperatures)\n",
    "print(\"Evening temperatures:\", evening_temperatures)\n"
   ]
  },
  {
   "cell_type": "markdown",
   "metadata": {},
   "source": [
    "Consider an array `arr` representing the quarterly sales data of a company, where each row corresponds to a quarter and each column represents different product categories. Split this array into three parts representing sales data for each product category. Print each part separately.\n",
    "\n",
    "`After splitting`,<br>\n",
    "you should have:<br>\n",
    "Sales data for Product Category 1: [[100, 150, 200], [120, 180, 220]]<br>\n",
    "Sales data for Product Category 2: [[90, 160, 210], [110, 170, 230]]<br>\n",
    "Sales data for Product Category 3: Not specified in the sample, but you should provide a similar split.<br>"
   ]
  },
  {
   "cell_type": "code",
   "execution_count": 10,
   "metadata": {},
   "outputs": [
    {
     "name": "stdout",
     "output_type": "stream",
     "text": [
      "catgory1 \n",
      " [[100 150 200]\n",
      " [120 180 220]]\n",
      "category2 \n",
      " [[ 90 160 210]\n",
      " [110 170 230]]\n",
      "category3 \n",
      " []\n"
     ]
    }
   ],
   "source": [
    "arr = np.array([[100, 150, 200], [120, 180, 220], [90, 160, 210], [110, 170, 230]])\n",
    "fr,rf ,gf= np.array_split(arr,[2,4])\n",
    "print(\"catgory1 \\n\",fr)\n",
    "print(\"category2 \\n\",rf)\n",
    "print(\"category3 \\n\",gf)"
   ]
  },
  {
   "cell_type": "markdown",
   "metadata": {},
   "source": [
    " Given an array `arr` representing the student scores in a class test, split it into 4 parts representing different sections of the class. Then, for each section, find the position where the score 7 fails, if it exists.\n",
    " "
   ]
  },
  {
   "cell_type": "code",
   "execution_count": 11,
   "metadata": {},
   "outputs": [
    {
     "name": "stdout",
     "output_type": "stream",
     "text": [
      "(array([0, 2, 3, 5, 7, 8, 9], dtype=int64),)\n"
     ]
    }
   ],
   "source": [
    "arr = np.array([7, 8, 6, 7, 9, 7, 8, 5, 7, 7])\n",
    "x = np.where(arr<=7)\n",
    "print(x)"
   ]
  },
  {
   "cell_type": "markdown",
   "metadata": {},
   "source": [
    "Suppose you have an array arr representing the daily stock prices of a company over a month. Calculate the daily percentage change in stock prices from the previous day and store it in a new array percentage_change. Then, find the days where the percentage change was greater than 2% and print the indices of those days.\n",
    "'After calculation, you should print:\n",
    "Indices of days where the percentage change was greater than 2%.'"
   ]
  },
  {
   "cell_type": "code",
   "execution_count": 12,
   "metadata": {},
   "outputs": [
    {
     "data": {
      "text/plain": [
       "array([ 1,  3,  4,  5,  7,  8, 10, 11, 12], dtype=int64)"
      ]
     },
     "execution_count": 12,
     "metadata": {},
     "output_type": "execute_result"
    }
   ],
   "source": [
    "arr1 = np.array([100, 102, 105, 98, 100, 105, 110, 112, 115, 120, 118, 122, 125, 130])\n",
    "percentage_change = (arr1[1:] - arr1[:-1]) / arr1[:-1] * 100 \n",
    "indices_greater_than_2 = np.where(percentage_change > 2)[0] \n",
    "indices_greater_than_2\n",
    "\n",
    "        \n"
   ]
  },
  {
   "cell_type": "markdown",
   "metadata": {},
   "source": [
    "Suppose you have two arrays representing the monthly sales data of a company's two branches, where each row corresponds to a month and each column represents different product categories. Concatenate these two arrays vertically to combine the sales data of both branches. Then, reshape the combined array to have 6 rows (representing half-yearly data) and 4 columns (representing product categories). Finally, calculate the total sales for each product category over the half-year period and print the result."
   ]
  },
  {
   "cell_type": "code",
   "execution_count": 13,
   "metadata": {},
   "outputs": [
    {
     "data": {
      "text/plain": [
       "array([ 635,  900, 1170,  750])"
      ]
     },
     "execution_count": 13,
     "metadata": {},
     "output_type": "execute_result"
    }
   ],
   "source": [
    "branch1_sales = np.array([[100, 150, 200, 120], [110, 160, 190, 130], [120, 140, 180, 140]])\n",
    "branch2_sales = np.array([[90, 130, 190, 110], [100, 170, 210, 120], [115, 150, 200, 130]])\n",
    "branch1_sales.reshape(3,4)\n",
    "branch2_sales.reshape(3,4)\n",
    "new_sales = np.vstack((branch1_sales,branch2_sales))\n",
    "hal = np.sum(new_sales,axis=0)\n",
    "hal\n"
   ]
  },
  {
   "cell_type": "markdown",
   "metadata": {},
   "source": [
    "Suppose you have an array representing the monthly revenue generated by a company over the past year. Calculate the average revenue generated per month and then find the months where the revenue was higher than the average. Print the indices of those months."
   ]
  },
  {
   "cell_type": "code",
   "execution_count": 14,
   "metadata": {},
   "outputs": [
    {
     "name": "stdout",
     "output_type": "stream",
     "text": [
      "(array([ 2,  5,  6,  8,  9, 10, 11], dtype=int64),)\n"
     ]
    }
   ],
   "source": [
    "monthly_revenue = np.array([50000, 55000, 60000, 48000, 52000, 58000, 62000, 53000, 57000, 61000, 59000, 64000])\n",
    "average = np.sum(monthly_revenue/len(monthly_revenue),axis=0)\n",
    "df  = np.where(monthly_revenue>average)\n",
    "print(df)"
   ]
  },
  {
   "cell_type": "markdown",
   "metadata": {},
   "source": [
    "Suppose you have an array representing the weekly sales data of a company for two consecutive weeks, where each row corresponds to a week and each column represents different product categories. Calculate the percentage change in sales for each product category from the first week to the second week. Then, identify the product categories where the percentage change is positive and greater than 10%. Print the indices of those product categories."
   ]
  },
  {
   "cell_type": "code",
   "execution_count": 15,
   "metadata": {},
   "outputs": [
    {
     "data": {
      "text/plain": [
       "(array([0, 1], dtype=int64),)"
      ]
     },
     "execution_count": 15,
     "metadata": {},
     "output_type": "execute_result"
    }
   ],
   "source": [
    "weekly_sales = np.array([[1000,1200,900,1100],[1100,1300,950,1150]])\n",
    "perman = (weekly_sales[1]-weekly_sales[0])/10\n",
    "perman = np.where(perman>=10)\n",
    "perman"
   ]
  },
  {
   "cell_type": "code",
   "execution_count": 25,
   "metadata": {},
   "outputs": [
    {
     "name": "stdout",
     "output_type": "stream",
     "text": [
      "2\n"
     ]
    }
   ],
   "source": [
    "def locate_cards(arrays,value):\n",
    "    desc_array = arrays[::-1]\n",
    "    \n",
    "    testing = np.searchsorted(desc_array,value,side=\"left\")\n",
    "    pos_in_desc = len(arrays)- testing\n",
    "    return pos_in_desc\n",
    "arrays=  [10, 2, 4, 5, 6, 7]\n",
    "value_to_becheked = 7\n",
    "desc_array1 = sorted(arrays,reverse=True)\n",
    "test_completed = locate_cards(desc_array1,value_to_becheked)\n",
    "print(test_completed)\n"
   ]
  },
  {
   "cell_type": "code",
   "execution_count": null,
   "metadata": {},
   "outputs": [],
   "source": []
  }
 ],
 "metadata": {
  "kernelspec": {
   "display_name": "Python 3",
   "language": "python",
   "name": "python3"
  },
  "language_info": {
   "codemirror_mode": {
    "name": "ipython",
    "version": 3
   },
   "file_extension": ".py",
   "mimetype": "text/x-python",
   "name": "python",
   "nbconvert_exporter": "python",
   "pygments_lexer": "ipython3",
   "version": "3.11.7"
  }
 },
 "nbformat": 4,
 "nbformat_minor": 2
}
