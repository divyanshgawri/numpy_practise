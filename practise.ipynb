{
 "cells": [
  {
   "cell_type": "code",
   "execution_count": 1,
   "metadata": {},
   "outputs": [],
   "source": [
    "import numpy as np"
   ]
  },
  {
   "cell_type": "markdown",
   "metadata": {},
   "source": [
    "Write a code snippet to create a 3x3 numpy array with values ranging from 1 to 9 and iterate through each element using nested loops\n"
   ]
  },
  {
   "cell_type": "code",
   "execution_count": 2,
   "metadata": {},
   "outputs": [
    {
     "name": "stdout",
     "output_type": "stream",
     "text": [
      "0\n",
      "1\n",
      "2\n",
      "3\n",
      "4\n",
      "5\n",
      "6\n",
      "7\n",
      "8\n"
     ]
    }
   ],
   "source": [
    "a = np.arange(0,9)\n",
    "a.reshape(3,3)\n",
    "for i in np.nditer(a):\n",
    "    print(i)"
   ]
  },
  {
   "cell_type": "markdown",
   "metadata": {},
   "source": [
    "Create a numpy array of shape (2, 4) filled with zeros and another array of shape (3, 3) filled with ones. Print their data types and shapes."
   ]
  },
  {
   "cell_type": "code",
   "execution_count": 3,
   "metadata": {},
   "outputs": [
    {
     "name": "stdout",
     "output_type": "stream",
     "text": [
      "[[1. 1. 1.]\n",
      " [1. 1. 1.]\n",
      " [1. 1. 1.]]\n",
      "[[0. 0. 0. 0.]\n",
      " [0. 0. 0. 0.]]\n",
      "\n",
      "\n",
      "float64 (3, 3)\n",
      "float64 (2, 4)\n"
     ]
    }
   ],
   "source": [
    "arr = np.zeros((2,4))\n",
    "# arr.reshape(2,4)\n",
    "varr = np.ones((3,3))\n",
    "print(varr)\n",
    "print(arr)\n",
    "print(\"\\n\")\n",
    "print(varr.dtype,varr.shape)\n",
    "print(arr.dtype,arr.shape)"
   ]
  },
  {
   "cell_type": "markdown",
   "metadata": {},
   "source": [
    "Given a numpy array str_arr containing strings, write code to convert each string to title case and print the result."
   ]
  },
  {
   "cell_type": "code",
   "execution_count": 4,
   "metadata": {},
   "outputs": [
    {
     "name": "stdout",
     "output_type": "stream",
     "text": [
      "[['Hello' 'Byy']\n",
      " ['Gm' 'Gn']]\n"
     ]
    }
   ],
   "source": [
    "str_arr = np.char.array([[\"hello\",\"byy\"],[\"gm\",\"gn\"]])\n",
    "print(str_arr.title())\n"
   ]
  },
  {
   "cell_type": "markdown",
   "metadata": {},
   "source": [
    "Create a numpy array containing float values ranging from 1.1 to 5.5. Use astype() to convert it to an array of integers and print the result."
   ]
  },
  {
   "cell_type": "code",
   "execution_count": 5,
   "metadata": {},
   "outputs": [],
   "source": [
    "der = np.arange(1.1,5.5)\n",
    "fer = der.astype(dtype='int64')\n",
    "#fer\n",
    "#hello"
   ]
  },
  {
   "cell_type": "markdown",
   "metadata": {},
   "source": [
    "Define a numpy array arr of shape (4, 6) filled with values from 1 to 24. Reshape it to a 2x12 array and print the result."
   ]
  },
  {
   "cell_type": "code",
   "execution_count": 6,
   "metadata": {},
   "outputs": [
    {
     "name": "stdout",
     "output_type": "stream",
     "text": [
      "[[ 1  2  3  4  5  6  7  8  9 10 11 12]\n",
      " [13 14 15 16 17 18 19 20 21 22 23 24]]\n"
     ]
    }
   ],
   "source": [
    "se = np.arange(1,25).reshape(4,6)\n",
    "de = se.reshape(2,12)\n",
    "print(de)"
   ]
  },
  {
   "cell_type": "markdown",
   "metadata": {},
   "source": [
    "Compare the performance of iterating through a numpy array using nested loops versus using np.nditer() for a large array (e.g., shape (1000, 1000)).\n"
   ]
  },
  {
   "cell_type": "code",
   "execution_count": null,
   "metadata": {},
   "outputs": [],
   "source": [
    "we = np.arange(1,1000001).reshape(1000,1000)\n",
    "for i in np.nditer(we):\n",
    "    print(i)"
   ]
  },
  {
   "cell_type": "markdown",
   "metadata": {},
   "source": [
    "Create a 4x4 identity matrix using numpy functions only. Then, multiply it by a randomly generated 4x4 matrix and print the result.\n"
   ]
  },
  {
   "cell_type": "code",
   "execution_count": 8,
   "metadata": {},
   "outputs": [
    {
     "data": {
      "text/plain": [
       "array([[0.19142525, 0.        , 0.        , 0.        ],\n",
       "       [0.        , 0.28911197, 0.        , 0.        ],\n",
       "       [0.        , 0.        , 0.34955532, 0.        ],\n",
       "       [0.        , 0.        , 0.        , 0.76721057]])"
      ]
     },
     "execution_count": 8,
     "metadata": {},
     "output_type": "execute_result"
    }
   ],
   "source": [
    "re = np.eye(4,4)\n",
    "er = np.random.random_sample((4,4))\n",
    "qw =re.__mul__(er)\n",
    "qw\n"
   ]
  },
  {
   "cell_type": "markdown",
   "metadata": {},
   "source": [
    " Given an array `arr` containing the temperature data of a city for a week (7 days), split it into three parts representing morning, afternoon, and evening temperatures respectively. Print each part separately\n",
    " [20, 22, 24, 26, 28, 30, 29]\n",
    " "
   ]
  },
  {
   "cell_type": "code",
   "execution_count": 26,
   "metadata": {},
   "outputs": [
    {
     "name": "stdout",
     "output_type": "stream",
     "text": [
      "Morning temperatures: [20 22]\n",
      "Afternoon temperatures: [24 26]\n",
      "Evening temperatures: [28 30 29]\n"
     ]
    }
   ],
   "source": [
    "\n",
    "arr = np.array([20, 22, 24, 26, 28, 30, 29])\n",
    "morning_temperatures, afternoon_temperatures, evening_temperatures = np.array_split(arr, [2, 4])\n",
    "print(\"Morning temperatures:\", morning_temperatures)\n",
    "print(\"Afternoon temperatures:\", afternoon_temperatures)\n",
    "print(\"Evening temperatures:\", evening_temperatures)\n"
   ]
  },
  {
   "cell_type": "markdown",
   "metadata": {},
   "source": [
    "Consider an array `arr` representing the quarterly sales data of a company, where each row corresponds to a quarter and each column represents different product categories. Split this array into three parts representing sales data for each product category. Print each part separately.\n",
    "\n",
    "`After splitting`,<br>\n",
    "you should have:<br>\n",
    "Sales data for Product Category 1: [[100, 150, 200], [120, 180, 220]]<br>\n",
    "Sales data for Product Category 2: [[90, 160, 210], [110, 170, 230]]<br>\n",
    "Sales data for Product Category 3: Not specified in the sample, but you should provide a similar split.<br>"
   ]
  },
  {
   "cell_type": "code",
   "execution_count": 104,
   "metadata": {},
   "outputs": [
    {
     "name": "stdout",
     "output_type": "stream",
     "text": [
      "catgory1 \n",
      " [[100 150 200]\n",
      " [120 180 220]]\n",
      "category2 \n",
      " [[ 90 160 210]\n",
      " [110 170 230]]\n",
      "category3 \n",
      " []\n"
     ]
    }
   ],
   "source": [
    "arr = np.array([[100, 150, 200], [120, 180, 220], [90, 160, 210], [110, 170, 230]])\n",
    "fr,rf,gf = np.array_split(arr,[2,4])\n",
    "print(\"catgory1 \\n\",fr)\n",
    "print(\"category2 \\n\",rf)\n",
    "print(\"category3 \\n\",gf)"
   ]
  },
  {
   "cell_type": "markdown",
   "metadata": {},
   "source": [
    " Given an array `arr` representing the student scores in a class test, split it into 4 parts representing different sections of the class. Then, for each section, find the position where the score 7 fails, if it exists.\n",
    " "
   ]
  },
  {
   "cell_type": "code",
   "execution_count": 158,
   "metadata": {},
   "outputs": [],
   "source": [
    "arr = np.array([7, 8, 6, 7, 9, 7, 8, 5, 7, 7])\n"
   ]
  },
  {
   "cell_type": "code",
   "execution_count": 140,
   "metadata": {},
   "outputs": [
    {
     "name": "stdout",
     "output_type": "stream",
     "text": [
      "Help on _ArrayFunctionDispatcher in module numpy:\n",
      "\n",
      "array_split(ary, indices_or_sections, axis=0)\n",
      "    Split an array into multiple sub-arrays.\n",
      "    \n",
      "    Please refer to the ``split`` documentation.  The only difference\n",
      "    between these functions is that ``array_split`` allows\n",
      "    `indices_or_sections` to be an integer that does *not* equally\n",
      "    divide the axis. For an array of length l that should be split\n",
      "    into n sections, it returns l % n sub-arrays of size l//n + 1\n",
      "    and the rest of size l//n.\n",
      "    \n",
      "    See Also\n",
      "    --------\n",
      "    split : Split array into multiple sub-arrays of equal size.\n",
      "    \n",
      "    Examples\n",
      "    --------\n",
      "    >>> x = np.arange(8.0)\n",
      "    >>> np.array_split(x, 3)\n",
      "    [array([0.,  1.,  2.]), array([3.,  4.,  5.]), array([6.,  7.])]\n",
      "    \n",
      "    >>> x = np.arange(9)\n",
      "    >>> np.array_split(x, 4)\n",
      "    [array([0, 1, 2]), array([3, 4]), array([5, 6]), array([7, 8])]\n",
      "\n"
     ]
    }
   ],
   "source": [
    "help(np.array_split)"
   ]
  },
  {
   "cell_type": "code",
   "execution_count": null,
   "metadata": {},
   "outputs": [],
   "source": []
  }
 ],
 "metadata": {
  "kernelspec": {
   "display_name": "Python 3",
   "language": "python",
   "name": "python3"
  },
  "language_info": {
   "codemirror_mode": {
    "name": "ipython",
    "version": 3
   },
   "file_extension": ".py",
   "mimetype": "text/x-python",
   "name": "python",
   "nbconvert_exporter": "python",
   "pygments_lexer": "ipython3",
   "version": "3.11.9"
  }
 },
 "nbformat": 4,
 "nbformat_minor": 2
}
