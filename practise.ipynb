{
 "cells": [
  {
   "cell_type": "code",
   "execution_count": 2,
   "metadata": {},
   "outputs": [],
   "source": [
    "import numpy as np"
   ]
  },
  {
   "cell_type": "markdown",
   "metadata": {},
   "source": [
    "Write a code snippet to create a 3x3 numpy array with values ranging from 1 to 9 and iterate through each element using nested loops\n"
   ]
  },
  {
   "cell_type": "code",
   "execution_count": 11,
   "metadata": {},
   "outputs": [
    {
     "name": "stdout",
     "output_type": "stream",
     "text": [
      "0\n",
      "1\n",
      "2\n",
      "3\n",
      "4\n",
      "5\n",
      "6\n",
      "7\n",
      "8\n"
     ]
    }
   ],
   "source": [
    "a = np.arange(0,9)\n",
    "a.reshape(3,3)\n",
    "for i in np.nditer(a):\n",
    "    print(i)"
   ]
  },
  {
   "cell_type": "markdown",
   "metadata": {},
   "source": [
    "Create a numpy array of shape (2, 4) filled with zeros and another array of shape (3, 3) filled with ones. Print their data types and shapes."
   ]
  },
  {
   "cell_type": "code",
   "execution_count": 20,
   "metadata": {},
   "outputs": [
    {
     "name": "stdout",
     "output_type": "stream",
     "text": [
      "[[1. 1. 1.]\n",
      " [1. 1. 1.]\n",
      " [1. 1. 1.]]\n",
      "[[0. 0. 0. 0.]\n",
      " [0. 0. 0. 0.]]\n",
      "\n",
      "\n",
      "float64 (3, 3)\n",
      "float64 (2, 4)\n"
     ]
    }
   ],
   "source": [
    "arr = np.zeros((2,4))\n",
    "# arr.reshape(2,4)\n",
    "varr = np.ones((3,3))\n",
    "print(varr)\n",
    "print(arr)\n",
    "print(\"\\n\")\n",
    "print(varr.dtype,varr.shape)\n",
    "print(arr.dtype,arr.shape)"
   ]
  },
  {
   "cell_type": "markdown",
   "metadata": {},
   "source": [
    "Given a numpy array str_arr containing strings, write code to convert each string to title case and print the result."
   ]
  },
  {
   "cell_type": "code",
   "execution_count": 22,
   "metadata": {},
   "outputs": [
    {
     "name": "stdout",
     "output_type": "stream",
     "text": [
      "[['Hello' 'Byy']\n",
      " ['Gm' 'Gn']]\n"
     ]
    }
   ],
   "source": [
    "str_arr = np.char.array([[\"hello\",\"byy\"],[\"gm\",\"gn\"]])\n",
    "print(str_arr.title())\n"
   ]
  },
  {
   "cell_type": "markdown",
   "metadata": {},
   "source": [
    "Create a numpy array containing float values ranging from 1.1 to 5.5. Use astype() to convert it to an array of integers and print the result."
   ]
  },
  {
   "cell_type": "code",
   "execution_count": 3,
   "metadata": {},
   "outputs": [],
   "source": [
    "der = np.arange(1.1,5.5)\n",
    "fer = der.astype(dtype='int64')\n",
    "#fer\n",
    "#hello"
   ]
  },
  {
   "cell_type": "markdown",
   "metadata": {},
   "source": [
    "Define a numpy array arr of shape (4, 6) filled with values from 1 to 24. Reshape it to a 2x12 array and print the result."
   ]
  },
  {
   "cell_type": "code",
   "execution_count": 44,
   "metadata": {},
   "outputs": [
    {
     "name": "stdout",
     "output_type": "stream",
     "text": [
      "[[ 1  2  3  4  5  6  7  8  9 10 11 12]\n",
      " [13 14 15 16 17 18 19 20 21 22 23 24]]\n"
     ]
    }
   ],
   "source": [
    "se = np.arange(1,25).reshape(4,6)\n",
    "de = se.reshape(2,12)\n",
    "print(de)"
   ]
  },
  {
   "cell_type": "markdown",
   "metadata": {},
   "source": [
    "Compare the performance of iterating through a numpy array using nested loops versus using np.nditer() for a large array (e.g., shape (1000, 1000)).\n"
   ]
  },
  {
   "cell_type": "code",
   "execution_count": null,
   "metadata": {},
   "outputs": [],
   "source": [
    "we = np.arange(1,1000001).reshape(1000,1000)\n",
    "for i in np.nditer(we):\n",
    "    print(i)"
   ]
  },
  {
   "cell_type": "markdown",
   "metadata": {},
   "source": [
    "Create a 4x4 identity matrix using numpy functions only. Then, multiply it by a randomly generated 4x4 matrix and print the result.\n"
   ]
  },
  {
   "cell_type": "code",
   "execution_count": 75,
   "metadata": {},
   "outputs": [
    {
     "data": {
      "text/plain": [
       "array([[0.48604758, 0.        , 0.        , 0.        ],\n",
       "       [0.        , 0.33922787, 0.        , 0.        ],\n",
       "       [0.        , 0.        , 0.9385854 , 0.        ],\n",
       "       [0.        , 0.        , 0.        , 0.4891328 ]])"
      ]
     },
     "execution_count": 75,
     "metadata": {},
     "output_type": "execute_result"
    }
   ],
   "source": [
    "re = np.eye(4,4)\n",
    "er = np.random.random_sample((4,4))\n",
    "qw =re.__mul__(er)\n",
    "qw\n"
   ]
  },
  {
   "cell_type": "code",
   "execution_count": null,
   "metadata": {},
   "outputs": [],
   "source": []
  }
 ],
 "metadata": {
  "kernelspec": {
   "display_name": "Python 3",
   "language": "python",
   "name": "python3"
  },
  "language_info": {
   "codemirror_mode": {
    "name": "ipython",
    "version": 3
   },
   "file_extension": ".py",
   "mimetype": "text/x-python",
   "name": "python",
   "nbconvert_exporter": "python",
   "pygments_lexer": "ipython3",
   "version": "3.11.9"
  }
 },
 "nbformat": 4,
 "nbformat_minor": 2
}
