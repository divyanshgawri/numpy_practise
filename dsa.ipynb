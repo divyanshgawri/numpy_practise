{
 "cells": [
  {
   "cell_type": "markdown",
   "metadata": {},
   "source": [
    "# <b>DSA STARTS FROM HERE"
   ]
  },
  {
   "cell_type": "markdown",
   "metadata": {},
   "source": [
    "### <i>This was the first question about the dsa in which we had solved the good problem of finding leaders in arrays"
   ]
  },
  {
   "cell_type": "code",
   "execution_count": 1,
   "metadata": {},
   "outputs": [],
   "source": [
    "import numpy as np  "
   ]
  },
  {
   "cell_type": "code",
   "execution_count": 2,
   "metadata": {},
   "outputs": [
    {
     "name": "stdout",
     "output_type": "stream",
     "text": [
      "The leaders are [17  5  2]\n"
     ]
    }
   ],
   "source": [
    "\n",
    "def leader_tell(arr):\n",
    "    arr = np.array(arr)\n",
    "    leaders = [arr[-1]]\n",
    "    \n",
    "    for i in range(len(arr)-2,-1,-1):\n",
    "        if arr[i]>leaders[-1]:\n",
    "            leaders.append(arr[i])\n",
    "    leaders.reverse()\n",
    "    return np.array(leaders)\n",
    "arr =    np.array([16, 17, 4, 3, 5, 2])\n",
    "print(\"The leaders are\",leader_tell(arr))\n",
    "    "
   ]
  },
  {
   "cell_type": "markdown",
   "metadata": {},
   "source": [
    "### <i>Largest Number in The Array"
   ]
  },
  {
   "cell_type": "code",
   "execution_count": 3,
   "metadata": {},
   "outputs": [
    {
     "data": {
      "text/plain": [
       "89"
      ]
     },
     "execution_count": 3,
     "metadata": {},
     "output_type": "execute_result"
    }
   ],
   "source": [
    "arra =np.array( [12, 45, 78, 34, 56, 23, 89])\n",
    "arra.max()\n",
    "\n",
    "def find_largest_element(arr):\n",
    "    largest = arr[0]\n",
    "    for i in range(1, len(arr)):\n",
    "        if arr[i] > largest:\n",
    "            largest = arr[i]\n",
    "    return largest\n",
    "\n",
    "arr = np.array([12, 45, 78, 34, 56, 23, 89])\n",
    "find_largest_element(arr)\n",
    "\n"
   ]
  },
  {
   "cell_type": "markdown",
   "metadata": {},
   "source": [
    "### <i>Second Largest Element checker "
   ]
  },
  {
   "cell_type": "code",
   "execution_count": 4,
   "metadata": {},
   "outputs": [
    {
     "name": "stdout",
     "output_type": "stream",
     "text": [
      "The desired outcome would be (89, 56)\n"
     ]
    }
   ],
   "source": [
    "def second_largest_tell(arr):\n",
    "    #it our choice to continue\n",
    "    largest = arr[0]\n",
    "    second_largest = [-1]\n",
    "    for i in range(1,len(arr)):\n",
    "        if arr[i]>largest:\n",
    "            second_largest = largest\n",
    "            largest= arr[i]\n",
    "    return largest,second_largest\n",
    "arra1 = np.array([12, 45, 7, 34, 56, 23, 89])\n",
    "print(\"The desired outcome would be\",second_largest_tell(arra1))"
   ]
  },
  {
   "cell_type": "markdown",
   "metadata": {},
   "source": [
    "NINJA and the Second Order Element "
   ]
  },
  {
   "cell_type": "code",
   "execution_count": 5,
   "metadata": {},
   "outputs": [
    {
     "name": "stdout",
     "output_type": "stream",
     "text": [
      "The desired outcome would be [56 12]\n"
     ]
    }
   ],
   "source": [
    "def desired_output(arr):\n",
    "    #it our choice to continue\n",
    "    largest = arr[0]\n",
    "    second_largest = [-1]\n",
    "    for i in range(1,len(arr)):\n",
    "        if arr[i]>largest:\n",
    "            second_largest = largest\n",
    "            largest= arr[i]\n",
    "    smallest = arr[0]\n",
    "    second_smallest = arr[-1]\n",
    "    for v in range(1,len(arr)):\n",
    "        if arr[v]<smallest:\n",
    "            second_smallest = smallest\n",
    "            smallest = arr[v]\n",
    "    # print(second_smallest)       \n",
    "    arrs = np.array([second_largest,second_smallest])\n",
    "    return arrs\n",
    "\n",
    "\n",
    "\n",
    "\n",
    "arra1 = np.array([12, 45, 7, 34, 56, 23, 89])\n",
    "print(\"The desired outcome would be\",desired_output(arra1))"
   ]
  },
  {
   "cell_type": "markdown",
   "metadata": {},
   "source": [
    "### <i>Left Rotate the array by one place"
   ]
  },
  {
   "cell_type": "code",
   "execution_count": 6,
   "metadata": {},
   "outputs": [
    {
     "name": "stdout",
     "output_type": "stream",
     "text": [
      "[2 3 4 5 6 1]\n"
     ]
    }
   ],
   "source": [
    "class Solution:\n",
    "    def left_rotate(arr):\n",
    "        temp_element = arr[0]\n",
    "        for i in range(1,len(arr)):\n",
    "            arr[i-1] = arr[i]\n",
    "        arr[(len(arr))-1] = temp_element\n",
    "        return arr\n",
    "array_1 = np.array([1,2,3,4,5,6])\n",
    "clss_solution = Solution()\n",
    "result = Solution.left_rotate(arr =array_1)\n",
    "print(result)"
   ]
  },
  {
   "cell_type": "markdown",
   "metadata": {},
   "source": [
    "### <i>Left Rotate the array by D-places"
   ]
  },
  {
   "cell_type": "markdown",
   "metadata": {},
   "source": [
    "#### <b> Doubt"
   ]
  },
  {
   "cell_type": "code",
   "execution_count": 33,
   "metadata": {},
   "outputs": [
    {
     "name": "stdout",
     "output_type": "stream",
     "text": [
      "[1 2]\n",
      "[3 4 5 6 7 1 2]\n"
     ]
    }
   ],
   "source": [
    "class Solution1:\n",
    "    @staticmethod\n",
    "    def left_rotater_d(arr,d):\n",
    "        d_place = arr[:d].copy()\n",
    "        print(d_place)\n",
    "        for i in range(d,len(arr)):\n",
    "            arr[i-d] = arr[i]\n",
    "        \n",
    "        for i in range(len(arr) - d, len(arr)):\n",
    "                arr[i] = d_place[(i - (len(arr) - d))]\n",
    "                    \n",
    "        return arr\n",
    "\n",
    "\n",
    "arra1 = np.array([1, 2, 3, 4, 5, 6, 7])\n",
    "class_solution1 = Solution1()\n",
    "result1 = class_solution1.left_rotater_d(arr=arra1, d=2)\n",
    "print(result1)\n",
    "\n",
    "            "
   ]
  },
  {
   "cell_type": "markdown",
   "metadata": {},
   "source": [
    "#### <i>Moving all Zeros to the End of the array"
   ]
  },
  {
   "cell_type": "code",
   "execution_count": 53,
   "metadata": {},
   "outputs": [
    {
     "data": {
      "text/plain": [
       "array([1, 2, 4, 5, 2, 0, 0, 0])"
      ]
     },
     "execution_count": 53,
     "metadata": {},
     "output_type": "execute_result"
    }
   ],
   "source": [
    "class Solutin2:\n",
    "    @staticmethod\n",
    "    def zero_last_push(arr):\n",
    "        leader = []\n",
    "        for i in arr:\n",
    "            if  i> 0:\n",
    "                leader.append(i)\n",
    "        for i in arr:\n",
    "            if i ==0:\n",
    "                leader.append(i)\n",
    "        return np.array(leader)\n",
    "arr1= np.array([1,2,0,0,4,0,5,2,])\n",
    "s1 = Solutin2()\n",
    "q  =s1.zero_last_push(arr1)\n",
    "q\n",
    "\n"
   ]
  },
  {
   "cell_type": "code",
   "execution_count": null,
   "metadata": {},
   "outputs": [],
   "source": []
  }
 ],
 "metadata": {
  "kernelspec": {
   "display_name": "base",
   "language": "python",
   "name": "python3"
  },
  "language_info": {
   "codemirror_mode": {
    "name": "ipython",
    "version": 3
   },
   "file_extension": ".py",
   "mimetype": "text/x-python",
   "name": "python",
   "nbconvert_exporter": "python",
   "pygments_lexer": "ipython3",
   "version": "3.11.7"
  }
 },
 "nbformat": 4,
 "nbformat_minor": 2
}
