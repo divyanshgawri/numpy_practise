{
 "cells": [
  {
   "cell_type": "code",
   "execution_count": 2,
   "metadata": {},
   "outputs": [
    {
     "name": "stdout",
     "output_type": "stream",
     "text": [
      "[1 2 3 4]\n"
     ]
    }
   ],
   "source": [
    "import numpy as np\n",
    "a = np.array([1,2,3,4])\n",
    "print(a)"
   ]
  },
  {
   "cell_type": "code",
   "execution_count": 3,
   "metadata": {},
   "outputs": [
    {
     "name": "stdout",
     "output_type": "stream",
     "text": [
      "1.26.4\n",
      "int32\n",
      "<class 'numpy.ndarray'>\n"
     ]
    }
   ],
   "source": [
    "print(np.__version__)\n",
    "print(a.dtype)\n",
    "print(type(a))"
   ]
  },
  {
   "cell_type": "code",
   "execution_count": 4,
   "metadata": {},
   "outputs": [
    {
     "data": {
      "text/plain": [
       "array([[1, 2, 3],\n",
       "       [4, 5, 6],\n",
       "       [7, 8, 9]])"
      ]
     },
     "execution_count": 4,
     "metadata": {},
     "output_type": "execute_result"
    }
   ],
   "source": [
    "d = np.array([[1,2,3],[4,5,6],[7,8,9]])\n",
    "d"
   ]
  },
  {
   "cell_type": "markdown",
   "metadata": {},
   "source": [
    "my revision\n"
   ]
  },
  {
   "cell_type": "code",
   "execution_count": 5,
   "metadata": {},
   "outputs": [
    {
     "data": {
      "text/plain": [
       "array([[1., 1., 1., 1., 1.]])"
      ]
     },
     "execution_count": 5,
     "metadata": {},
     "output_type": "execute_result"
    }
   ],
   "source": [
    "ar_zero = np.zeros((5,4)) #with zero array return hoga \n",
    "ar_one = np.ones((1,5))  #with 1's array return hoga\n",
    "ar_empt = np.empty((3,4)) #back memory mae jo bhi save hoga vi isme ata h\n",
    "# ar_empt\n",
    "ar_zero\n",
    "ar_one"
   ]
  },
  {
   "cell_type": "code",
   "execution_count": 6,
   "metadata": {},
   "outputs": [
    {
     "name": "stdout",
     "output_type": "stream",
     "text": [
      "[[ 1  2  3]\n",
      " [ 4  5  6]\n",
      " [ 7  8  9]\n",
      " [10 11 12]]\n"
     ]
    }
   ],
   "source": [
    "# ae = np.random.randn(6,6) #-ve to +ve har values ko return karengi\n",
    "# ae\n",
    "aee =np.random.randint(1,6,10) # (start_value,stop_value,total_values)\n",
    "# aee\n",
    "# print(aee.dtype)\n",
    "ret = np.ones((5,5)) # 5 X 5 ki matrix bnane k liy\n",
    "ter = np.eye((5)) # identity matrix\n",
    "added = np.add(ret,ter) # arithematic operation\n",
    "# added\n",
    "# print(np.char.title([\"python\", \"numpy\"])) #to give tittle\n",
    "se = np.char.split((\"are you guys coming to party\"))    # split kar dega list mae\n",
    "# print(se)\n",
    "# print(np.char.strip([\"hey\",\"hola\",\"frah\"],\"h\")) #removes the starting and trailing letter from arrays\n",
    "# print(np.char.join([\":\",\"-\"],[\"dirt\",\"mud\"])) #yae  particular word ko add kar deta h\n",
    "\n",
    "arr = np.array([[1, 2, 3, 4, 5], [6, 7, 8, 9, 10]],dtype = 'i4');#print(arr[0:2, 2])\n",
    "arr = np.array([1.1, 2.1, 3.1]);newarr = arr.astype('i')\n",
    "#print(newarr);print(newarr.dtype)\n",
    "\n",
    "#astype() is function creates a copy and allows you to change datatype and let you operate on this \n",
    "\n",
    "arr = np.array([1, 2, 3, 4, 5, 6, 7, 8, 9, 10, 11, 12])\n",
    "newarr = arr.reshape(4, 3);print(newarr)"
   ]
  },
  {
   "cell_type": "code",
   "execution_count": 7,
   "metadata": {},
   "outputs": [
    {
     "name": "stdout",
     "output_type": "stream",
     "text": [
      "(0, 0) 1\n",
      "(0, 1) 2\n",
      "(0, 2) 3\n",
      "(0, 3) 4\n",
      "(1, 0) 5\n",
      "(1, 1) 6\n",
      "(1, 2) 7\n",
      "(1, 3) 8\n"
     ]
    }
   ],
   "source": [
    "arr = np.array([[1, 2, 3], [4, 5, 6]]);newarr = arr.reshape(-1);#print(newarr)\n",
    "#arrays are same iterables as same as other datatypes\n",
    "\n",
    "# arr = np.array([[1, 2, 3], [4, 5, 6]])\n",
    "# for x in arr:\n",
    "#   print(x)\n",
    "\n",
    "# arr = np.array([[[1, 2, 3], [4, 5, 6]], [[7, 8, 9], [10, 11, 12]]])\n",
    "# for x in arr:\n",
    "#   for y in x:\n",
    "#     for z in y:\n",
    "#       print(z)\n",
    "varr = np.array([[[1, 2], [3, 4]], [[5, 6], [7, 8]]])\n",
    "# for x in np.nditer(varr):\n",
    "#   print(x)\n",
    "arr = np.array([[1, 2, 3, 4], [5, 6, 7, 8]])\n",
    "\n",
    "# for x in np.nditer(arr[:, ::2]):\n",
    "#   print(x)\n",
    "for id ,x  in np.ndenumerate(arr):\n",
    "  print(id,x)                 # to check the index with the array in respect ot both of them"
   ]
  },
  {
   "cell_type": "code",
   "execution_count": 8,
   "metadata": {},
   "outputs": [
    {
     "name": "stdout",
     "output_type": "stream",
     "text": [
      "\n",
      "\n"
     ]
    },
    {
     "data": {
      "text/plain": [
       "array([[16, 15, 14, 13],\n",
       "       [12, 11, 10,  9],\n",
       "       [ 8,  7,  6,  5],\n",
       "       [ 4,  3,  2,  1],\n",
       "       [26, 25, 24, 23],\n",
       "       [22, 21, 20, 19],\n",
       "       [18, 17, 16, 15],\n",
       "       [14, 13, 12, 11]])"
      ]
     },
     "execution_count": 8,
     "metadata": {},
     "output_type": "execute_result"
    }
   ],
   "source": [
    "ew = np.array([10,20,30])\n",
    "ut = np.array([100,200,300])\n",
    "rwe = np.concatenate((ew,ut),axis = 0)\n",
    "\n",
    "print(\"\\n\")\n",
    "\n",
    "gr = np.arange(16,0,-1).reshape(4,4)\n",
    "rg = np.arange(26,10,-1).reshape(4,4)\n",
    "rgr = np.concatenate((gr,rg),axis = 0)\n",
    "rgr"
   ]
  },
  {
   "cell_type": "code",
   "execution_count": 9,
   "metadata": {},
   "outputs": [
    {
     "data": {
      "text/plain": [
       "array([[1000, 2000, 3000],\n",
       "       [9000, 8000, 7000]])"
      ]
     },
     "execution_count": 9,
     "metadata": {},
     "output_type": "execute_result"
    }
   ],
   "source": [
    "tr=np.array([[1,2,3],[4,5,6]])\n",
    "rt = np.array([[10,20,30],[100,200,300]])\n",
    "qq = np.concatenate((rt,tr),axis = 0)         #it will join the two arrays\n",
    "\n",
    "yu = np.array([1000,2000,3000])\n",
    "uy = np.array([9000,8000,7000])\n",
    "# uyu = np.stack((yu,uy),axis=1)  #it concatenate/stack  in default manner\n",
    "uyu = np.hstack((yu,uy)) # in a row it will stack\n",
    "uyu = np.vstack((yu,uy)) # in a column it will stack\n",
    "uyu"
   ]
  },
  {
   "cell_type": "code",
   "execution_count": 10,
   "metadata": {},
   "outputs": [
    {
     "data": {
      "text/plain": [
       "2"
      ]
     },
     "execution_count": 10,
     "metadata": {},
     "output_type": "execute_result"
    }
   ],
   "source": [
    "arr = np.array([[1, 2, 3], [4, 5, 6], [7, 8, 9], [10, 11, 12], [13, 14, 15], [16, 17, 18]])\n",
    "newarr = np.array_split(arr,4,axis=0)\n",
    "newarr\n",
    "\n",
    "\n",
    "swwe = np.array([1,2,3,4,5,6,7,8])\n",
    "wq = np.where(swwe%2==0)            # searching in arrays\n",
    "wq\n",
    "\n",
    "arr = np.array([6, 7, 8, 9])\n",
    "\n",
    "x = np.searchsorted(arr, 7,side='right')         #binary search in the array\n",
    "x\n"
   ]
  },
  {
   "cell_type": "code",
   "execution_count": 16,
   "metadata": {},
   "outputs": [
    {
     "name": "stdout",
     "output_type": "stream",
     "text": [
      "[False  True  True]\n",
      "[[2 3 4]\n",
      " [0 1 5]]\n"
     ]
    }
   ],
   "source": [
    "codwe = np.array([True,False,True])\n",
    "print(np.sort(codwe))\n",
    "\n",
    "\n",
    "grf = np.array([[3,2,4],[5,0,1]])\n",
    "print(np.sort(grf))"
   ]
  },
  {
   "cell_type": "code",
   "execution_count": 12,
   "metadata": {},
   "outputs": [
    {
     "data": {
      "text/plain": [
       "(5, 5)"
      ]
     },
     "execution_count": 12,
     "metadata": {},
     "output_type": "execute_result"
    }
   ],
   "source": [
    "ret.ndim\n",
    "ret.itemsize\n",
    "ret.shape\n",
    "\n"
   ]
  },
  {
   "cell_type": "code",
   "execution_count": null,
   "metadata": {},
   "outputs": [],
   "source": []
  },
  {
   "cell_type": "code",
   "execution_count": 13,
   "metadata": {},
   "outputs": [
    {
     "name": "stdout",
     "output_type": "stream",
     "text": [
      "Help on _ArrayFunctionDispatcher in module numpy:\n",
      "\n",
      "ndim(a)\n",
      "    Return the number of dimensions of an array.\n",
      "    \n",
      "    Parameters\n",
      "    ----------\n",
      "    a : array_like\n",
      "        Input array.  If it is not already an ndarray, a conversion is\n",
      "        attempted.\n",
      "    \n",
      "    Returns\n",
      "    -------\n",
      "    number_of_dimensions : int\n",
      "        The number of dimensions in `a`.  Scalars are zero-dimensional.\n",
      "    \n",
      "    See Also\n",
      "    --------\n",
      "    ndarray.ndim : equivalent method\n",
      "    shape : dimensions of array\n",
      "    ndarray.shape : dimensions of array\n",
      "    \n",
      "    Examples\n",
      "    --------\n",
      "    >>> np.ndim([[1,2,3],[4,5,6]])\n",
      "    2\n",
      "    >>> np.ndim(np.array([[1,2,3],[4,5,6]]))\n",
      "    2\n",
      "    >>> np.ndim(1)\n",
      "    0\n",
      "\n"
     ]
    }
   ],
   "source": [
    "# help(ret.itemsize)\n",
    "help(np.ndim)"
   ]
  },
  {
   "cell_type": "code",
   "execution_count": null,
   "metadata": {},
   "outputs": [],
   "source": []
  }
 ],
 "metadata": {
  "kernelspec": {
   "display_name": "Python 3",
   "language": "python",
   "name": "python3"
  },
  "language_info": {
   "codemirror_mode": {
    "name": "ipython",
    "version": 3
   },
   "file_extension": ".py",
   "mimetype": "text/x-python",
   "name": "python",
   "nbconvert_exporter": "python",
   "pygments_lexer": "ipython3",
   "version": "3.11.9"
  }
 },
 "nbformat": 4,
 "nbformat_minor": 2
}
